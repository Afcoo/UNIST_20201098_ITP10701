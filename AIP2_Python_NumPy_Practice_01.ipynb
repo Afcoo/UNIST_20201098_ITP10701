{
  "nbformat": 4,
  "nbformat_minor": 0,
  "metadata": {
    "colab": {
      "name": "AIP2_Python_NumPy_Practice_01.ipynb",
      "provenance": []
    },
    "kernelspec": {
      "display_name": "Python 3",
      "language": "python",
      "name": "python3"
    },
    "language_info": {
      "codemirror_mode": {
        "name": "ipython",
        "version": 3
      },
      "file_extension": ".py",
      "mimetype": "text/x-python",
      "name": "python",
      "nbconvert_exporter": "python",
      "pygments_lexer": "ipython3",
      "version": "3.7.3"
    }
  },
  "cells": [
    {
      "cell_type": "markdown",
      "metadata": {
        "colab_type": "text",
        "id": "3hkFMCgaFKj9"
      },
      "source": [
        "# 2020 Fall Introduction to AI Programming II : NumPy Practice"
      ]
    },
    {
      "cell_type": "markdown",
      "metadata": {
        "colab_type": "text",
        "id": "ie_fm2ZGFKj-"
      },
      "source": [
        "## Goals \n",
        "   In this Lab session, you practice writing Python NumPy moudle \n",
        "   Most of the statistical analysis which needs data to be stored in memory uses NumPy. \n",
        "   You will be looking into the following topics in here."
      ]
    },
    {
      "cell_type": "markdown",
      "metadata": {
        "colab_type": "text",
        "id": "fXCsUs4CFKj_"
      },
      "source": [
        "Issues covered:\n",
        "  1. Why NumPy and Not Python lists\n",
        "  2. How to create NumPy Arrays\n",
        "  3. Create N-Dimensional Array\n",
        "  4. Mathematical Operations and Array Calculations "
      ]
    },
    {
      "cell_type": "markdown",
      "metadata": {
        "colab_type": "text",
        "id": "nIyZXPUFFKj_"
      },
      "source": [
        "## 1. Why NumPy and Not Python lists\n",
        "   "
      ]
    },
    {
      "cell_type": "markdown",
      "metadata": {
        "colab_type": "text",
        "id": "ucEgmh8wFKkA"
      },
      "source": [
        "NumPy provides efficient storage and better ways of handling data for Mathematical Operations.\n",
        "\n",
        "NumPy is the fundamental package for scientific computing with Python. Extremely useful!!\n",
        "\n",
        "links used:\n",
        "https://docs.scipy.org/doc/numpy/reference/arrays.indexing.html    "
      ]
    },
    {
      "cell_type": "markdown",
      "metadata": {
        "colab_type": "text",
        "id": "wjX1a_lCFKkA"
      },
      "source": [
        "## 2. How to create NumPy Arrays"
      ]
    },
    {
      "cell_type": "markdown",
      "metadata": {
        "colab_type": "text",
        "id": "V0Sh-_0JFKkB"
      },
      "source": [
        " - import the \"numpy\" library as \"np\""
      ]
    },
    {
      "cell_type": "code",
      "metadata": {
        "colab_type": "code",
        "id": "1RE00yTRFKkB",
        "colab": {},
        "outputId": "61761d27-1f06-4898-cf71-49bb315197d1"
      },
      "source": [
        "import numpy as np\n",
        "print(np.__version__)"
      ],
      "execution_count": null,
      "outputs": [
        {
          "output_type": "stream",
          "text": [
            "1.16.4\n"
          ],
          "name": "stdout"
        }
      ]
    },
    {
      "cell_type": "markdown",
      "metadata": {
        "colab_type": "text",
        "id": "ANvcRgJ4FKkF"
      },
      "source": [
        "- using .array(....) function"
      ]
    },
    {
      "cell_type": "code",
      "metadata": {
        "colab_type": "code",
        "id": "Tqxrmb03FKkF",
        "colab": {}
      },
      "source": [
        "np_arr = np.array([1,2,3,4,5,6])"
      ],
      "execution_count": null,
      "outputs": []
    },
    {
      "cell_type": "code",
      "metadata": {
        "colab_type": "code",
        "id": "-T5Q-XebFKkH",
        "colab": {},
        "outputId": "50c16300-86df-43c1-e21b-34e86c0d553c"
      },
      "source": [
        "np_arr  #  print(np_arr)"
      ],
      "execution_count": null,
      "outputs": [
        {
          "output_type": "execute_result",
          "data": {
            "text/plain": [
              "array([1, 2, 3, 4, 5, 6])"
            ]
          },
          "metadata": {
            "tags": []
          },
          "execution_count": 3
        }
      ]
    },
    {
      "cell_type": "code",
      "metadata": {
        "colab_type": "code",
        "id": "4Aa_i6lLFKkK",
        "colab": {},
        "outputId": "47e63cf2-fe36-4d4f-f3a3-633fecb868dd"
      },
      "source": [
        "len(np_arr)"
      ],
      "execution_count": null,
      "outputs": [
        {
          "output_type": "execute_result",
          "data": {
            "text/plain": [
              "6"
            ]
          },
          "metadata": {
            "tags": []
          },
          "execution_count": 4
        }
      ]
    },
    {
      "cell_type": "code",
      "metadata": {
        "colab_type": "code",
        "id": "AGtWyB5jFKkM",
        "colab": {}
      },
      "source": [
        "py_arr = [1,2,3,4,5,6]"
      ],
      "execution_count": null,
      "outputs": []
    },
    {
      "cell_type": "code",
      "metadata": {
        "colab_type": "code",
        "id": "8SA4PN99FKkO",
        "colab": {},
        "outputId": "e5dc32e3-3256-4590-9797-c56a06ec6343"
      },
      "source": [
        "py_arr"
      ],
      "execution_count": null,
      "outputs": [
        {
          "output_type": "execute_result",
          "data": {
            "text/plain": [
              "[1, 2, 3, 4, 5, 6]"
            ]
          },
          "metadata": {
            "tags": []
          },
          "execution_count": 6
        }
      ]
    },
    {
      "cell_type": "code",
      "metadata": {
        "colab_type": "code",
        "id": "y5vwWQ3tFKkR",
        "colab": {},
        "outputId": "0cb39c6b-033a-4110-ae93-61b215d5cbb5"
      },
      "source": [
        "len(py_arr)"
      ],
      "execution_count": null,
      "outputs": [
        {
          "output_type": "execute_result",
          "data": {
            "text/plain": [
              "6"
            ]
          },
          "metadata": {
            "tags": []
          },
          "execution_count": 7
        }
      ]
    },
    {
      "cell_type": "markdown",
      "metadata": {
        "colab_type": "text",
        "id": "lAKbA-x9FKkT"
      },
      "source": [
        "- Check the difference between python array and numpy array"
      ]
    },
    {
      "cell_type": "code",
      "metadata": {
        "colab_type": "code",
        "id": "4pfK9Dl3FKkT",
        "colab": {}
      },
      "source": [
        "# insertion by string \n",
        "py_arr= [1,2,3,4,\"Hello\", 5,6]"
      ],
      "execution_count": null,
      "outputs": []
    },
    {
      "cell_type": "code",
      "metadata": {
        "colab_type": "code",
        "id": "Gj2DKcSsFKkV",
        "colab": {},
        "outputId": "2126b144-87e2-41a3-be20-6abadb5c7c87"
      },
      "source": [
        "py_arr"
      ],
      "execution_count": null,
      "outputs": [
        {
          "output_type": "execute_result",
          "data": {
            "text/plain": [
              "[1, 2, 3, 4, 'Hello', 5, 6]"
            ]
          },
          "metadata": {
            "tags": []
          },
          "execution_count": 9
        }
      ]
    },
    {
      "cell_type": "code",
      "metadata": {
        "colab_type": "code",
        "id": "1cEp43GCFKkX",
        "colab": {},
        "outputId": "0452dd4f-9074-4819-ee10-b1b7fda98997"
      },
      "source": [
        "[type(item) for item in py_arr]"
      ],
      "execution_count": null,
      "outputs": [
        {
          "output_type": "execute_result",
          "data": {
            "text/plain": [
              "[int, int, int, int, str, int, int]"
            ]
          },
          "metadata": {
            "tags": []
          },
          "execution_count": 10
        }
      ]
    },
    {
      "cell_type": "code",
      "metadata": {
        "colab_type": "code",
        "id": "rJAcMCe5FKkZ",
        "colab": {}
      },
      "source": [
        "np_arr = np.array([1,2,3,\"Hello\", 4,5,6])"
      ],
      "execution_count": null,
      "outputs": []
    },
    {
      "cell_type": "code",
      "metadata": {
        "colab_type": "code",
        "id": "4HoadqFwFKkb",
        "colab": {},
        "outputId": "2bcaaaf0-5bba-4558-cf68-82b415fe2dff"
      },
      "source": [
        "np_arr\n",
        "# Remember that unlike Python lists,\n",
        "# NumPy is constrained to arrays that all contain the same type. \n",
        "# If types do not match, NumPy will upcast if possible \n",
        "# (here, integers are up-cast to stringtype):"
      ],
      "execution_count": null,
      "outputs": [
        {
          "output_type": "execute_result",
          "data": {
            "text/plain": [
              "array(['1', '2', '3', 'Hello', '4', '5', '6'], dtype='<U11')"
            ]
          },
          "metadata": {
            "tags": []
          },
          "execution_count": 12
        }
      ]
    },
    {
      "cell_type": "markdown",
      "metadata": {
        "colab_type": "text",
        "id": "eXMphQV9FKkd"
      },
      "source": [
        " - Create a list with values 1 to 10 and assign it to the variable \"list1\"\n",
        " - Create an integer array from list1 and assign it\n",
        " - Check the data type of each array (use the attribute \"dtype\")"
      ]
    },
    {
      "cell_type": "code",
      "metadata": {
        "colab_type": "code",
        "id": "IeXVNrROFKke",
        "colab": {},
        "outputId": "eb4508eb-9d26-4ac5-9a9b-846e205ad5f0"
      },
      "source": [
        "list1= range(1, 11)\n",
        "np_arr = np.array(list1, dtype = np.int32)   # np_arr = np.array(list1, \"i\") \n",
        "print(np_arr, np_arr.dtype)"
      ],
      "execution_count": null,
      "outputs": [
        {
          "output_type": "stream",
          "text": [
            "[ 1  2  3  4  5  6  7  8  9 10] int32\n"
          ],
          "name": "stdout"
        }
      ]
    },
    {
      "cell_type": "markdown",
      "metadata": {
        "colab_type": "text",
        "id": "b2Pry8Z4FKkg"
      },
      "source": [
        " - Create a list with values 1 to 10 and assign it to the variable \"list1\"\n",
        " - Create an array of floats from list1 and assign it\n",
        " - Check the data type of each array (use the attribute \"dtype\")"
      ]
    },
    {
      "cell_type": "code",
      "metadata": {
        "colab_type": "code",
        "id": "u0i-9ZM9FKkg",
        "colab": {},
        "outputId": "af0c9c49-ffea-4a5b-99e5-e642268fdfa7"
      },
      "source": [
        "list1 = range(1,11)\n",
        "\n",
        "np_arr = np.array(list1, dtype = np.float64)\n",
        "print(np_arr, np_arr.dtype)"
      ],
      "execution_count": null,
      "outputs": [
        {
          "output_type": "stream",
          "text": [
            "[ 1.  2.  3.  4.  5.  6.  7.  8.  9. 10.] float64\n"
          ],
          "name": "stdout"
        }
      ]
    },
    {
      "cell_type": "markdown",
      "metadata": {
        "colab_type": "text",
        "id": "wBIAYLPyFKki"
      },
      "source": [
        "## 3. Create N-Dimensional Array"
      ]
    },
    {
      "cell_type": "markdown",
      "metadata": {
        "colab_type": "text",
        "id": "_ZfjxE3HFKki"
      },
      "source": [
        "- using .array() and many other function   # create numpy array\n",
        "- using .reshape() function   # reshapes the array without changing the original shape\n",
        "- using .arange() function    # create sequence of numbers in array\n",
        "- using .empty()              # to get a matrix of all random numbers\n",
        "- using .zeros() and ones()   # numpy provides the utility to create some usual matrices which are commonly used\n",
        "- using .diag()               # diagonal elements   np.diag([1,1,1,1])\n",
        "- using .ravel() function \n",
        "\n",
        "- Especially for larger arrays, it is more efficient to create arrays from scratch using routines built into NumPy."
      ]
    },
    {
      "cell_type": "markdown",
      "metadata": {
        "colab_type": "text",
        "id": "jqnmdsAhFKkj"
      },
      "source": [
        "<script src=\"https://npmcdn.com/jupyter-js-widgets@~1.2.0/dist/embed.js\"></script><img src='https://www.oreilly.com/library/view/elegant-scipy/9781491922927/assets/elsp_0105.png'><script type=\"application/vnd.jupyter-embedded-widgets\">{}</script>"
      ]
    },
    {
      "cell_type": "code",
      "metadata": {
        "colab_type": "code",
        "id": "41ipD6B3FKkj",
        "colab": {
          "base_uri": "https://localhost:8080/",
          "height": 34
        },
        "outputId": "5b29ea0e-11c5-4366-8382-21e2393ed952"
      },
      "source": [
        "import numpy as np\n",
        "# Create an array filled with a linear sequence\n",
        "# Starting at 0, ending at 10, stepping by 1\n",
        "# (this is similar to the built-in range() function)\n",
        "np_arr=np.arange(0,10,1)\n",
        "np_arr"
      ],
      "execution_count": null,
      "outputs": [
        {
          "output_type": "execute_result",
          "data": {
            "text/plain": [
              "array([0, 1, 2, 3, 4, 5, 6, 7, 8, 9])"
            ]
          },
          "metadata": {
            "tags": []
          },
          "execution_count": 15
        }
      ]
    },
    {
      "cell_type": "code",
      "metadata": {
        "colab_type": "code",
        "id": "TF6YBh1BFKkl",
        "colab": {}
      },
      "source": [
        "# Create an array of five values evenly spaced between 0 and 1\n",
        "np_arr = np.linspace(0, 1, 5)"
      ],
      "execution_count": null,
      "outputs": []
    },
    {
      "cell_type": "code",
      "metadata": {
        "colab_type": "code",
        "id": "fTCB49dZFKkn",
        "colab": {
          "base_uri": "https://localhost:8080/",
          "height": 68
        },
        "outputId": "07bb2489-6072-4f2f-de26-53092b966816"
      },
      "source": [
        "# Create a 3x3 array of uniformly distributed\n",
        "# random values between 0 and 1\n",
        "np_arr = np.random.random((3, 3))\n",
        "np_arr"
      ],
      "execution_count": null,
      "outputs": [
        {
          "output_type": "execute_result",
          "data": {
            "text/plain": [
              "array([[0.43455873, 0.08087447, 0.36308352],\n",
              "       [0.39448802, 0.11953896, 0.84743223],\n",
              "       [0.46513805, 0.93481964, 0.14021028]])"
            ]
          },
          "metadata": {
            "tags": []
          },
          "execution_count": 17
        }
      ]
    },
    {
      "cell_type": "code",
      "metadata": {
        "colab_type": "code",
        "id": "XZFvkCYyFKkp",
        "colab": {
          "base_uri": "https://localhost:8080/",
          "height": 68
        },
        "outputId": "5fa8a706-b36b-43f5-b9b7-0e651ba4d2d4"
      },
      "source": [
        "# Create a 3x3 array of normally distributed random values\n",
        "# with mean 0 and standard deviation 1\n",
        "np_arr = np.random.normal(0, 1, (3, 3))\n",
        "np_arr"
      ],
      "execution_count": null,
      "outputs": [
        {
          "output_type": "execute_result",
          "data": {
            "text/plain": [
              "array([[-1.04782034,  1.82743521, -0.06473692],\n",
              "       [ 0.04328195, -0.04274667, -0.23197686],\n",
              "       [-2.01079058,  0.40072256,  1.9761313 ]])"
            ]
          },
          "metadata": {
            "tags": []
          },
          "execution_count": 18
        }
      ]
    },
    {
      "cell_type": "code",
      "metadata": {
        "colab_type": "code",
        "id": "iHi74kD5FKkq",
        "colab": {
          "base_uri": "https://localhost:8080/",
          "height": 68
        },
        "outputId": "f5ca6658-8a57-402c-94bf-e1de1a8ee0ab"
      },
      "source": [
        "# Create a 3x3 array of random integers in the interval [0, 10)\n",
        "np.random.randint(0, 10, (3, 3))"
      ],
      "execution_count": null,
      "outputs": [
        {
          "output_type": "execute_result",
          "data": {
            "text/plain": [
              "array([[0, 3, 6],\n",
              "       [7, 2, 9],\n",
              "       [0, 0, 2]])"
            ]
          },
          "metadata": {
            "tags": []
          },
          "execution_count": 19
        }
      ]
    },
    {
      "cell_type": "code",
      "metadata": {
        "colab_type": "code",
        "id": "40N1STX2FKks",
        "colab": {
          "base_uri": "https://localhost:8080/",
          "height": 163
        },
        "outputId": "3927ea45-7ce3-43cc-9e51-c317a2c630ab"
      },
      "source": [
        "np_arr"
      ],
      "execution_count": null,
      "outputs": [
        {
          "output_type": "execute_result",
          "data": {
            "text/plain": [
              "array([[-1.04782034,  1.82743521, -0.06473692],\n",
              "       [ 0.04328195, -0.04274667, -0.23197686],\n",
              "       [-2.01079058,  0.40072256,  1.9761313 ]])"
            ]
          },
          "metadata": {
            "tags": []
          },
          "execution_count": 21
        }
      ]
    },
    {
      "cell_type": "code",
      "metadata": {
        "colab_type": "code",
        "id": "7EiKv-kVFKku",
        "colab": {},
        "outputId": "465baac9-69a5-4489-8c64-30441dcc68c2"
      },
      "source": [
        "b.T"
      ],
      "execution_count": null,
      "outputs": [
        {
          "output_type": "error",
          "ename": "NameError",
          "evalue": "name 'b' is not defined",
          "traceback": [
            "\u001b[1;31m---------------------------------------------------------------------------\u001b[0m",
            "\u001b[1;31mNameError\u001b[0m                                 Traceback (most recent call last)",
            "\u001b[1;32m<ipython-input-22-c0520590aacc>\u001b[0m in \u001b[0;36m<module>\u001b[1;34m\u001b[0m\n\u001b[1;32m----> 1\u001b[1;33m \u001b[0mb\u001b[0m\u001b[1;33m.\u001b[0m\u001b[0mT\u001b[0m\u001b[1;33m\u001b[0m\u001b[1;33m\u001b[0m\u001b[0m\n\u001b[0m",
            "\u001b[1;31mNameError\u001b[0m: name 'b' is not defined"
          ]
        }
      ]
    },
    {
      "cell_type": "code",
      "metadata": {
        "colab_type": "code",
        "id": "awwhkn77FKkv",
        "colab": {}
      },
      "source": [
        "np_arr "
      ],
      "execution_count": null,
      "outputs": []
    },
    {
      "cell_type": "code",
      "metadata": {
        "colab_type": "code",
        "id": "1KvlpqcrFKkx",
        "colab": {}
      },
      "source": [
        "# Create an uninitialized arrays\n",
        "# The values will be whatever happens to already exist at that memory location\n",
        "np_arr = np.empty((5,2))"
      ],
      "execution_count": null,
      "outputs": []
    },
    {
      "cell_type": "code",
      "metadata": {
        "colab_type": "code",
        "id": "TvgLThA9FKk0",
        "colab": {}
      },
      "source": [
        "np_arr"
      ],
      "execution_count": null,
      "outputs": []
    },
    {
      "cell_type": "code",
      "metadata": {
        "colab_type": "code",
        "id": "L8Mp3cQyFKk2",
        "colab": {}
      },
      "source": [
        "np_arr=np.empty((5,2), dtype = np.int32)"
      ],
      "execution_count": null,
      "outputs": []
    },
    {
      "cell_type": "code",
      "metadata": {
        "colab_type": "code",
        "id": "tLordmwoFKk3",
        "colab": {}
      },
      "source": [
        "np_arr"
      ],
      "execution_count": null,
      "outputs": []
    },
    {
      "cell_type": "code",
      "metadata": {
        "colab_type": "code",
        "id": "ej84V37GFKk5",
        "colab": {}
      },
      "source": [
        " # Create a length-10 integer array filled with zeros\n",
        "np_arr = np.zeros((5,2))"
      ],
      "execution_count": null,
      "outputs": []
    },
    {
      "cell_type": "code",
      "metadata": {
        "colab_type": "code",
        "id": "G1bVRiEQFKk6",
        "colab": {}
      },
      "source": [
        "np_arr"
      ],
      "execution_count": null,
      "outputs": []
    },
    {
      "cell_type": "code",
      "metadata": {
        "colab_type": "code",
        "id": "taP4jc_dFKk9",
        "colab": {}
      },
      "source": [
        "np_arr = np.ones((5,2))  # Create a 5x2 floating-point array filled with ones"
      ],
      "execution_count": null,
      "outputs": []
    },
    {
      "cell_type": "code",
      "metadata": {
        "colab_type": "code",
        "id": "fAJ-R0FuFKk-",
        "colab": {}
      },
      "source": [
        "np_arr"
      ],
      "execution_count": null,
      "outputs": []
    },
    {
      "cell_type": "code",
      "metadata": {
        "colab_type": "code",
        "id": "Wr8Bd0U1FKlA",
        "colab": {}
      },
      "source": [
        "np_arr.ravel()"
      ],
      "execution_count": null,
      "outputs": []
    },
    {
      "cell_type": "markdown",
      "metadata": {
        "colab_type": "text",
        "id": "6GUAoZMuFKlB"
      },
      "source": [
        "<script src=\"https://npmcdn.com/jupyter-js-widgets@~1.2.0/dist/embed.js\"></script><img src='https://t1.daumcdn.net/cfile/tistory/99B4C23C5A884A392C'><script type=\"application/vnd.jupyter-embedded-widgets\">{}</script>"
      ]
    },
    {
      "cell_type": "code",
      "metadata": {
        "colab_type": "code",
        "id": "3FFSOMjvFKlC",
        "colab": {
          "base_uri": "https://localhost:8080/",
          "height": 70
        },
        "outputId": "63de50dd-a371-4145-c1d2-6058e04f39ed"
      },
      "source": [
        "import numpy as np\n",
        "np_arr = np.eye(3) # 3 by b matrics="
      ],
      "execution_count": 3,
      "outputs": [
        {
          "output_type": "execute_result",
          "data": {
            "text/plain": [
              "array([[1., 0., 0.],\n",
              "       [0., 1., 0.],\n",
              "       [0., 0., 1.]])"
            ]
          },
          "metadata": {
            "tags": []
          },
          "execution_count": 3
        }
      ]
    },
    {
      "cell_type": "code",
      "metadata": {
        "colab_type": "code",
        "id": "-0Cda_EkFKlD",
        "colab": {}
      },
      "source": [
        "np_arr = np.full((2,2), 7) # Create a 2x2 array filled with 7"
      ],
      "execution_count": 4,
      "outputs": []
    },
    {
      "cell_type": "code",
      "metadata": {
        "colab_type": "code",
        "id": "LZZNC5mNFKlF",
        "colab": {
          "base_uri": "https://localhost:8080/",
          "height": 52
        },
        "outputId": "dd7940b1-fa7a-4565-d607-3703bc766553"
      },
      "source": [
        "np_arr"
      ],
      "execution_count": 5,
      "outputs": [
        {
          "output_type": "execute_result",
          "data": {
            "text/plain": [
              "array([[7, 7],\n",
              "       [7, 7]])"
            ]
          },
          "metadata": {
            "tags": []
          },
          "execution_count": 5
        }
      ]
    },
    {
      "cell_type": "markdown",
      "metadata": {
        "colab_type": "text",
        "id": "IW89sDR0FKlH"
      },
      "source": [
        "### NumPy Data Types "
      ]
    },
    {
      "cell_type": "markdown",
      "metadata": {
        "colab_type": "text",
        "id": "CSp6qB8QFKlI"
      },
      "source": [
        "| Data type\t    | Description |\n",
        "|---------------|-------------|\n",
        "| ``bool_``     | Boolean (True or False) stored as a byte |\n",
        "| ``int_``      | Default integer type (same as C ``long``; normally either ``int64`` or ``int32``)| \n",
        "| ``intc``      | Identical to C ``int`` (normally ``int32`` or ``int64``)| \n",
        "| ``intp``      | Integer used for indexing (same as C ``ssize_t``; normally either ``int32`` or ``int64``)| \n",
        "| ``int8``      | Byte (-128 to 127)| \n",
        "| ``int16``     | Integer (-32768 to 32767)|\n",
        "| ``int32``     | Integer (-2147483648 to 2147483647)|\n",
        "| ``int64``     | Integer (-9223372036854775808 to 9223372036854775807)| \n",
        "| ``uint8``     | Unsigned integer (0 to 255)| \n",
        "| ``uint16``    | Unsigned integer (0 to 65535)| \n",
        "| ``uint32``    | Unsigned integer (0 to 4294967295)| \n",
        "| ``uint64``    | Unsigned integer (0 to 18446744073709551615)| \n",
        "| ``float_``    | Shorthand for ``float64``.| \n",
        "| ``float16``   | Half precision float: sign bit, 5 bits exponent, 10 bits mantissa| \n",
        "| ``float32``   | Single precision float: sign bit, 8 bits exponent, 23 bits mantissa| \n",
        "| ``float64``   | Double precision float: sign bit, 11 bits exponent, 52 bits mantissa| \n",
        "| ``complex_``  | Shorthand for ``complex128``.| \n",
        "| ``complex64`` | Complex number, represented by two 32-bit floats| \n",
        "| ``complex128``| Complex number, represented by two 64-bit floats| "
      ]
    },
    {
      "cell_type": "markdown",
      "metadata": {
        "colab_type": "text",
        "id": "04E118-AFKlI"
      },
      "source": [
        "#### Practice 1\n",
        "- Create an array of shape (2,3,4) of zeros\n",
        "- Create an array of shape (3,4,5) of ones\n",
        "- Create an array with values 0 to 49 using the np.arange() "
      ]
    },
    {
      "cell_type": "code",
      "metadata": {
        "colab_type": "code",
        "id": "HVhtjiGaFKlI",
        "colab": {}
      },
      "source": [
        "\n",
        "\n",
        "\n"
      ],
      "execution_count": null,
      "outputs": []
    },
    {
      "cell_type": "markdown",
      "metadata": {
        "colab_type": "text",
        "id": "z6Yz8bWoFKlK"
      },
      "source": [
        "#### Practice  2    \n",
        "- Create an array of from the list [2,5,5, -7.2, 3,5, 2.7, 4.7] and assign it \n",
        "  print np_arr[1] \n",
        "- try printing np_arr[1:-4] to see what the equals?\n",
        "- Create a 2-D array from the following list and assign it \n",
        "  [[2, 3.2, 5.5, -6.4, -2.2, 2.4], \n",
        "  [1, 22, 4, 0.1, 5.3, -9], \n",
        "  [3, 1, 2.1, 21, 1.1, -2]]\n",
        "\n",
        "- try printing the following\n",
        "  a[:, 3], \n",
        "  a[1:4, 0:4], \n",
        "  a[1:, 2] "
      ]
    },
    {
      "cell_type": "code",
      "metadata": {
        "colab_type": "code",
        "id": "N-fLnK2KFKlK",
        "colab": {}
      },
      "source": [
        "import numpy as np\n",
        "np_arr = np.array([2,5.5, -7.2, 3.5, 2.7, 4.7])"
      ],
      "execution_count": null,
      "outputs": []
    },
    {
      "cell_type": "code",
      "metadata": {
        "colab_type": "code",
        "id": "lvViuX9EFKlL",
        "colab": {}
      },
      "source": [
        "np_arr"
      ],
      "execution_count": null,
      "outputs": []
    },
    {
      "cell_type": "code",
      "metadata": {
        "colab_type": "code",
        "id": "laUuvu4cFKlO",
        "colab": {}
      },
      "source": [
        "np_arr[1]"
      ],
      "execution_count": null,
      "outputs": []
    },
    {
      "cell_type": "code",
      "metadata": {
        "colab_type": "code",
        "id": "rolUxZUKFKlP",
        "colab": {}
      },
      "source": [
        "np_arr[1:4]"
      ],
      "execution_count": null,
      "outputs": []
    },
    {
      "cell_type": "code",
      "metadata": {
        "colab_type": "code",
        "id": "Jpz6Z-f5FKlR",
        "colab": {}
      },
      "source": [
        "np_arr = np.array([[2, 3.2, 5.5, -6.4, -2.2, 2.4],\n",
        "                [1, 22, 4, 0.1, 5.3, -9],\n",
        "                [3, 1, 2.1, 21, 1.1, -2]])"
      ],
      "execution_count": null,
      "outputs": []
    },
    {
      "cell_type": "code",
      "metadata": {
        "colab_type": "code",
        "id": "7MU6RvvbFKlU",
        "colab": {}
      },
      "source": [
        "np_arr"
      ],
      "execution_count": null,
      "outputs": []
    },
    {
      "cell_type": "code",
      "metadata": {
        "colab_type": "code",
        "id": "92ET0yOeFKlV",
        "colab": {}
      },
      "source": [
        "np_arr[:,3]"
      ],
      "execution_count": null,
      "outputs": []
    },
    {
      "cell_type": "markdown",
      "metadata": {
        "colab_type": "text",
        "id": "TNtJOYGDFKlY"
      },
      "source": [
        "#### Practice 3\n",
        "- Create a 2-D array of shape (2, 4) containing two lists (range(4), range(10, 14)) and assign it\n",
        "- Check the shape, the size,n the maximum and minimum of the array "
      ]
    },
    {
      "cell_type": "code",
      "metadata": {
        "colab_type": "code",
        "id": "di61VaaMFKlY",
        "colab": {}
      },
      "source": [
        "\n",
        "\n",
        "\n"
      ],
      "execution_count": null,
      "outputs": []
    },
    {
      "cell_type": "markdown",
      "metadata": {
        "colab_type": "text",
        "id": "ZjHqo_JsFKla"
      },
      "source": [
        "- Contiunue to use the array as defined above. \n",
        "- print the array re-shaped to (2,2,2)\n",
        "- print the array transposed\n",
        "- print the array flattened to a single dimension"
      ]
    },
    {
      "cell_type": "code",
      "metadata": {
        "colab_type": "code",
        "id": "_0ut56HPFKlb",
        "colab": {}
      },
      "source": [
        "\n",
        "\n",
        "\n"
      ],
      "execution_count": null,
      "outputs": []
    },
    {
      "cell_type": "markdown",
      "metadata": {
        "colab_type": "text",
        "id": "08w9yWZfFKlc"
      },
      "source": [
        "## 4. Mathematical Operations and Array Calculations \n",
        "\n",
        "NumPy n-dimensional arrays makes it extremely easy to perform mathematical operations on it.\n",
        "- Mathematical operations with arrays\n",
        "- Mathematical operations mixing scalars and arrays\n",
        "- Comparison operators and Boolean operations on arrays\n",
        "- Broadcasting"
      ]
    },
    {
      "cell_type": "code",
      "metadata": {
        "colab_type": "code",
        "id": "wVwne_3uFKlc",
        "colab": {}
      },
      "source": [
        "py_arr = [1,2,3] * 2"
      ],
      "execution_count": null,
      "outputs": []
    },
    {
      "cell_type": "code",
      "metadata": {
        "colab_type": "code",
        "id": "XRouTe7JFKlg",
        "colab": {}
      },
      "source": [
        "np_arr = np.array([1,2,3]) * 2 "
      ],
      "execution_count": null,
      "outputs": []
    },
    {
      "cell_type": "code",
      "metadata": {
        "colab_type": "code",
        "id": "-PKUNqR3FKli",
        "colab": {
          "base_uri": "https://localhost:8080/"
        },
        "outputId": "addcb63c-364e-4faf-eb04-19ca11096d55"
      },
      "source": [
        "py_arr"
      ],
      "execution_count": null,
      "outputs": [
        {
          "output_type": "execute_result",
          "data": {
            "text/plain": [
              "[1, 2, 3, 1, 2, 3]"
            ]
          },
          "metadata": {
            "tags": []
          },
          "execution_count": 9
        }
      ]
    },
    {
      "cell_type": "code",
      "metadata": {
        "colab_type": "code",
        "id": "mwaJ4kSZFKlj",
        "colab": {
          "base_uri": "https://localhost:8080/"
        },
        "outputId": "985ec1a1-5003-42c4-c3a3-eb554739cb4f"
      },
      "source": [
        "np_arr"
      ],
      "execution_count": null,
      "outputs": [
        {
          "output_type": "execute_result",
          "data": {
            "text/plain": [
              "array([2, 4, 6])"
            ]
          },
          "metadata": {
            "tags": []
          },
          "execution_count": 10
        }
      ]
    },
    {
      "cell_type": "markdown",
      "metadata": {
        "colab_type": "text",
        "id": "plhVadKxFKll"
      },
      "source": [
        "multi dimensional mathematical operations"
      ]
    },
    {
      "cell_type": "code",
      "metadata": {
        "colab_type": "code",
        "id": "zBjUs7a0FKlm",
        "colab": {}
      },
      "source": [
        "np_arr = np.ones((5,2)) * 10"
      ],
      "execution_count": null,
      "outputs": []
    },
    {
      "cell_type": "code",
      "metadata": {
        "colab_type": "code",
        "id": "hhRJNB9AFKln",
        "colab": {
          "base_uri": "https://localhost:8080/"
        },
        "outputId": "022ca6d9-ea26-4fb1-800e-725ea0ba5ec1"
      },
      "source": [
        "np_arr"
      ],
      "execution_count": null,
      "outputs": [
        {
          "output_type": "execute_result",
          "data": {
            "text/plain": [
              "array([[10., 10.],\n",
              "       [10., 10.],\n",
              "       [10., 10.],\n",
              "       [10., 10.],\n",
              "       [10., 10.]])"
            ]
          },
          "metadata": {
            "tags": []
          },
          "execution_count": 12
        }
      ]
    },
    {
      "cell_type": "markdown",
      "metadata": {
        "colab_type": "text",
        "id": "aPvJ7O0MFKlp"
      },
      "source": [
        "#### Practice 4\n",
        "- Create a 2-D array of shape (2, 4) containing two lists (range(4), range(10, 14)) and assign it to the   \n",
        "  variable \"a\" \n",
        "- Create an array from a list [2, -1, 1, 0] and assign it to the variable \"b\"\n",
        "- Multiply array \"a\" by \"b\" and view the result. Do you understand how NumPy has used its broadcasting feature\n",
        "  to do the calculation even though the arrays are different shapes?\n",
        "- Multiply array \"b\" by 100 and assign the result to the variable \"b1\".\n",
        "- Multiply array \"b\" by 100.0 and assign the result to the variable \"b2\".\n",
        "- Print the arrays \"b1\" and \"b2\".\n",
        "- Print \"b1 == b2\". Are they the same?\n",
        "- Why do they display differently? Interrogate the typecode of each array to find out why."
      ]
    },
    {
      "cell_type": "code",
      "metadata": {
        "colab_type": "code",
        "id": "p3TjJgSLFKlq",
        "colab": {}
      },
      "source": [
        "import numpy as np"
      ],
      "execution_count": null,
      "outputs": []
    },
    {
      "cell_type": "code",
      "metadata": {
        "colab_type": "code",
        "id": "Bew1KHCVFKlr",
        "colab": {}
      },
      "source": [
        "a = np.array([range(4), range(10,14)])"
      ],
      "execution_count": null,
      "outputs": []
    },
    {
      "cell_type": "code",
      "metadata": {
        "colab_type": "code",
        "id": "Ggt64GCyFKlt",
        "colab": {}
      },
      "source": [
        "b = np.array([2,-1,1,0])"
      ],
      "execution_count": null,
      "outputs": []
    },
    {
      "cell_type": "code",
      "metadata": {
        "colab_type": "code",
        "id": "vGKlmm-lFKlv",
        "colab": {}
      },
      "source": [
        "# a*b"
      ],
      "execution_count": null,
      "outputs": []
    },
    {
      "cell_type": "code",
      "metadata": {
        "colab_type": "code",
        "id": "nwrMNY1FFKlw",
        "colab": {}
      },
      "source": [
        "# b1"
      ],
      "execution_count": null,
      "outputs": []
    },
    {
      "cell_type": "code",
      "metadata": {
        "colab_type": "code",
        "id": "9T-VtNcGFKly",
        "colab": {}
      },
      "source": [
        "#b2"
      ],
      "execution_count": null,
      "outputs": []
    },
    {
      "cell_type": "code",
      "metadata": {
        "colab_type": "code",
        "id": "jx8bgwNUFKlz",
        "colab": {}
      },
      "source": [
        "#print "
      ],
      "execution_count": null,
      "outputs": []
    },
    {
      "cell_type": "markdown",
      "metadata": {
        "colab_type": "text",
        "id": "yjf2XtoFFKl0"
      },
      "source": [
        "### Broadcasting \n",
        "Broadcasting is simply a set of rules for applying binary ufuncs (e.g., addition, subtraction, multiplication, etc.) on arrays of different sizes.\n"
      ]
    },
    {
      "cell_type": "code",
      "metadata": {
        "colab_type": "code",
        "id": "zqCK2ruFFKl1",
        "colab": {}
      },
      "source": [
        "import numpy as np"
      ],
      "execution_count": null,
      "outputs": []
    },
    {
      "cell_type": "code",
      "metadata": {
        "colab_type": "code",
        "id": "BEKPzUhxFKl2",
        "colab": {}
      },
      "source": [
        "a = np.array([0,1,2])\n",
        "b = np.array([5,5,5])"
      ],
      "execution_count": null,
      "outputs": []
    },
    {
      "cell_type": "code",
      "metadata": {
        "colab_type": "code",
        "id": "QZYv8nFJFKl3",
        "colab": {
          "base_uri": "https://localhost:8080/"
        },
        "outputId": "0934c791-38b4-4aa7-93a5-3766e3ab0824"
      },
      "source": [
        "a+b"
      ],
      "execution_count": null,
      "outputs": [
        {
          "output_type": "execute_result",
          "data": {
            "text/plain": [
              "array([5, 6, 7])"
            ]
          },
          "metadata": {
            "tags": []
          },
          "execution_count": 22
        }
      ]
    },
    {
      "cell_type": "markdown",
      "metadata": {
        "colab_type": "text",
        "id": "mmt55UptFKl5"
      },
      "source": [
        "Broadcasting allows these types of binary operations to be performed on arrays of different sizes–for example,\n",
        "you can just as easily add a scalar (think of it as a zero-dimensional array) to an array:"
      ]
    },
    {
      "cell_type": "code",
      "metadata": {
        "colab_type": "code",
        "id": "Y6fxljbqFKl5",
        "colab": {
          "base_uri": "https://localhost:8080/"
        },
        "outputId": "761a6471-4ccf-4e00-8859-ac9f83c59d7b"
      },
      "source": [
        "a+5"
      ],
      "execution_count": null,
      "outputs": [
        {
          "output_type": "execute_result",
          "data": {
            "text/plain": [
              "array([5, 6, 7])"
            ]
          },
          "metadata": {
            "tags": []
          },
          "execution_count": 23
        }
      ]
    },
    {
      "cell_type": "markdown",
      "metadata": {
        "colab_type": "text",
        "id": "GkDCiM0hFKl6"
      },
      "source": [
        "\n",
        "\n",
        "You can think of this as an operation that stretches or duplicates the value 5 into the array [5, 5, 5], and adds the results. The advantage of NumPy's broadcasting is that this duplication of values does not actually take place, but it is a useful mental model as we think about broadcasting.\n",
        "\n",
        "You can similarly extend this to arrays of higher dimension. Observe the result when we add a one-dimensional array to a two-dimensional array:\n"
      ]
    },
    {
      "cell_type": "code",
      "metadata": {
        "colab_type": "code",
        "id": "J-KfZ0J5FKl6",
        "colab": {}
      },
      "source": [
        "c = np.ones((3,3))"
      ],
      "execution_count": null,
      "outputs": []
    },
    {
      "cell_type": "code",
      "metadata": {
        "colab_type": "code",
        "id": "NZIX5AK9FKl7",
        "colab": {
          "base_uri": "https://localhost:8080/"
        },
        "outputId": "ae833ad2-a9ff-4263-805d-c4d73f5f5e18"
      },
      "source": [
        "c"
      ],
      "execution_count": null,
      "outputs": [
        {
          "output_type": "execute_result",
          "data": {
            "text/plain": [
              "array([[1., 1., 1.],\n",
              "       [1., 1., 1.],\n",
              "       [1., 1., 1.]])"
            ]
          },
          "metadata": {
            "tags": []
          },
          "execution_count": 25
        }
      ]
    },
    {
      "cell_type": "code",
      "metadata": {
        "colab_type": "code",
        "id": "_QRSRhweFKl8",
        "colab": {
          "base_uri": "https://localhost:8080/"
        },
        "outputId": "7cbd7177-d5fb-4ae7-d9cc-1116e36b18ac"
      },
      "source": [
        "c + a"
      ],
      "execution_count": null,
      "outputs": [
        {
          "output_type": "execute_result",
          "data": {
            "text/plain": [
              "array([[1., 2., 3.],\n",
              "       [1., 2., 3.],\n",
              "       [1., 2., 3.]])"
            ]
          },
          "metadata": {
            "tags": []
          },
          "execution_count": 26
        }
      ]
    },
    {
      "cell_type": "markdown",
      "metadata": {
        "colab_type": "text",
        "id": "HuMoqenJFKl-"
      },
      "source": [
        "\n",
        "\n",
        "Here the one-dimensional array a is stretched, or broadcast across the second dimension in order to match the shape of j.\n",
        "\n",
        "While these examples are relatively easy to understand, more complicated cases can involve broadcasting of both arrays. Consider the following example:\n"
      ]
    },
    {
      "cell_type": "code",
      "metadata": {
        "colab_type": "code",
        "id": "u_TkpaeSFKl-",
        "colab": {}
      },
      "source": [
        "a = np.arange(3)\n",
        "b = np.arange(3)[:, np.newaxis]"
      ],
      "execution_count": null,
      "outputs": []
    },
    {
      "cell_type": "code",
      "metadata": {
        "colab_type": "code",
        "id": "Qy8DgOdyFKl_",
        "colab": {
          "base_uri": "https://localhost:8080/"
        },
        "outputId": "505e5e15-c619-4269-ba36-a46a367972e4"
      },
      "source": [
        "print(a)\n",
        "print(b)"
      ],
      "execution_count": null,
      "outputs": [
        {
          "output_type": "stream",
          "text": [
            "[0 1 2]\n",
            "[[0]\n",
            " [1]\n",
            " [2]]\n"
          ],
          "name": "stdout"
        }
      ]
    },
    {
      "cell_type": "code",
      "metadata": {
        "colab_type": "code",
        "id": "BFqO6qKBFKmB",
        "colab": {
          "base_uri": "https://localhost:8080/"
        },
        "outputId": "c715aa34-64bb-4d01-fe4f-71adaae848e7"
      },
      "source": [
        "a+b"
      ],
      "execution_count": null,
      "outputs": [
        {
          "output_type": "execute_result",
          "data": {
            "text/plain": [
              "array([[0, 1, 2],\n",
              "       [1, 2, 3],\n",
              "       [2, 3, 4]])"
            ]
          },
          "metadata": {
            "tags": []
          },
          "execution_count": 29
        }
      ]
    },
    {
      "cell_type": "markdown",
      "metadata": {
        "colab_type": "text",
        "id": "gbcYgAJEFKmC"
      },
      "source": [
        "Just as before we stretched or broadcasted one value to match the shape of the other, here we've stretched both a and b to match a common shape, and the result is a two-dimensional array! The geometry of these examples is visualized in the following figure "
      ]
    },
    {
      "cell_type": "markdown",
      "metadata": {
        "colab_type": "text",
        "id": "Y8CeXWNfFKmD"
      },
      "source": [
        "<script src=\"https://npmcdn.com/jupyter-js-widgets@~1.2.0/dist/embed.js\"></script><img src='https://jakevdp.github.io/PythonDataScienceHandbook/figures/02.05-broadcasting.png'><script type=\"application/vnd.jupyter-embedded-widgets\">{}</script>"
      ]
    },
    {
      "cell_type": "markdown",
      "metadata": {
        "colab_type": "text",
        "id": "e3I1QOGrFKmD"
      },
      "source": [
        "### Rules of Broadcasting"
      ]
    },
    {
      "cell_type": "markdown",
      "metadata": {
        "colab_type": "raw",
        "id": "TYPPgDZ2FKmD"
      },
      "source": [
        "Broadcasting in NumPy follows a strict set of rules to determine the interaction between the two arrays:\n",
        "\n",
        "    1.Rule 1: If the two arrays differ in their number of dimensions, the shape of the one with fewer dimensions is \n",
        "              padded with ones on its leading (left) side.\n",
        "    2.Rule 2: If the shape of the two arrays does not match in any dimension, the array with shape equal to 1 in that        \n",
        "              dimension is stretched to match the other shape.\n",
        "    3.Rule 3: If in any dimension the sizes disagree and neither is equal to 1, an error is raised."
      ]
    },
    {
      "cell_type": "markdown",
      "metadata": {
        "colab_type": "text",
        "id": "rvllj7WgFKmE"
      },
      "source": [
        "Thanks for your attention!!! "
      ]
    }
  ]
}