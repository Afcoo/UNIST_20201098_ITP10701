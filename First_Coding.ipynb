{
  "nbformat": 4,
  "nbformat_minor": 0,
  "metadata": {
    "colab": {
      "name": "First Coding.ipynb",
      "provenance": [],
      "collapsed_sections": [],
      "authorship_tag": "ABX9TyMqOdxIbtwXUliG/XY+4eb6",
      "include_colab_link": true
    },
    "kernelspec": {
      "name": "python3",
      "display_name": "Python 3"
    }
  },
  "cells": [
    {
      "cell_type": "markdown",
      "metadata": {
        "id": "view-in-github",
        "colab_type": "text"
      },
      "source": [
        "<a href=\"https://colab.research.google.com/github/Afcoo/UNIST_20201098_ITP10701/blob/master/First_Coding.ipynb\" target=\"_parent\"><img src=\"https://colab.research.google.com/assets/colab-badge.svg\" alt=\"Open In Colab\"/></a>"
      ]
    },
    {
      "cell_type": "code",
      "metadata": {
        "id": "Y8hIINDlOtpb",
        "colab_type": "code",
        "colab": {
          "base_uri": "https://localhost:8080/",
          "height": 35
        },
        "outputId": "02f4e2cb-3803-4149-c794-d28e964c8865"
      },
      "source": [
        "print('Welcome to UNIST!')"
      ],
      "execution_count": 1,
      "outputs": [
        {
          "output_type": "stream",
          "text": [
            "Welcome to UNIST!\n"
          ],
          "name": "stdout"
        }
      ]
    },
    {
      "cell_type": "code",
      "metadata": {
        "id": "fEEJt-AfO75F",
        "colab_type": "code",
        "colab": {}
      },
      "source": [
        "#Define Dictionary\n",
        "dict1 = {\"Chanju Oh\":[20200000, 2020],\n",
        "         \"Sung Whan Yoon\":[20190000, 2019],\n",
        "         'Sung Whan Yoon': [20190000, 2019]}"
      ],
      "execution_count": 2,
      "outputs": []
    },
    {
      "cell_type": "code",
      "metadata": {
        "id": "tUEhT14sP7U4",
        "colab_type": "code",
        "colab": {}
      },
      "source": [
        "#Keep press \"shift\" key + press \"enter\" key --> for execution in colab and jupyter\n",
        "dict1[\"Chan ju Park:\"] = [20192013, 2019]"
      ],
      "execution_count": 3,
      "outputs": []
    },
    {
      "cell_type": "code",
      "metadata": {
        "id": "XfvqpLaAQFQT",
        "colab_type": "code",
        "colab": {
          "base_uri": "https://localhost:8080/",
          "height": 70
        },
        "outputId": "d2d47fb1-2f81-4108-e53a-75e77d0ad816"
      },
      "source": [
        "dict1"
      ],
      "execution_count": 4,
      "outputs": [
        {
          "output_type": "execute_result",
          "data": {
            "text/plain": [
              "{'Chan ju Park:': [20192013, 2019],\n",
              " 'Chanju Oh': [20200000, 2020],\n",
              " 'Sung Whan Yoon': [20190000, 2019]}"
            ]
          },
          "metadata": {
            "tags": []
          },
          "execution_count": 4
        }
      ]
    },
    {
      "cell_type": "code",
      "metadata": {
        "id": "ct9Hfb8eQG1F",
        "colab_type": "code",
        "colab": {
          "base_uri": "https://localhost:8080/",
          "height": 106
        },
        "outputId": "fb80687c-a9b2-47f4-83d3-4684c844c86f"
      },
      "source": [
        "dict1.update({\"Kim Min jeong\": [20201042, 2020]})\n",
        "dict1"
      ],
      "execution_count": 13,
      "outputs": [
        {
          "output_type": "execute_result",
          "data": {
            "text/plain": [
              "{'Chan ju Park:': [20192013, 2019],\n",
              " 'Chanju Oh': [20200000, 2020],\n",
              " 'Kim Min jeong': [20201042, 2020],\n",
              " 'Min jeong Kime': [20201042, 2020],\n",
              " 'Sung Whan Yoon': [20190000, 2019]}"
            ]
          },
          "metadata": {
            "tags": []
          },
          "execution_count": 13
        }
      ]
    },
    {
      "cell_type": "code",
      "metadata": {
        "id": "hl4s0uWJQiV5",
        "colab_type": "code",
        "colab": {
          "base_uri": "https://localhost:8080/",
          "height": 35
        },
        "outputId": "30ebcdbc-3eb9-49e8-f817-218f88b31eb1"
      },
      "source": [
        "# Now with conditions and loops, find the student who first name starts with 'K' and store in the list\n",
        "result = []\n",
        "for i in dict1:\n",
        "  if i[0] == 'M':\n",
        "    result.append(dict1[i][0])\n",
        "print(result)\n"
      ],
      "execution_count": 15,
      "outputs": [
        {
          "output_type": "stream",
          "text": [
            "[20201042]\n"
          ],
          "name": "stdout"
        }
      ]
    },
    {
      "cell_type": "code",
      "metadata": {
        "id": "q5ocKpz4RtiU",
        "colab_type": "code",
        "colab": {
          "base_uri": "https://localhost:8080/",
          "height": 35
        },
        "outputId": "bbb0a216-40ac-4d5b-f621-ba2479c1bb53"
      },
      "source": [
        "def nPrime(number):\n",
        "  if number == 2:\n",
        "    return True\n",
        "  mode = 0\n",
        "  for i in range(2, number):\n",
        "    p = number % i\n",
        "    if p == 0:\n",
        "      mode = 1\n",
        "    if mode == 1:\n",
        "      return False\n",
        "  return True\n",
        "\n",
        "print(\"is 2 a prime number?\", nPrime(2))"
      ],
      "execution_count": 18,
      "outputs": [
        {
          "output_type": "stream",
          "text": [
            "is 2 a prime number? True\n"
          ],
          "name": "stdout"
        }
      ]
    },
    {
      "cell_type": "code",
      "metadata": {
        "id": "Lwc37KgnUp7m",
        "colab_type": "code",
        "colab": {
          "base_uri": "https://localhost:8080/",
          "height": 135
        },
        "outputId": "56b43434-70a3-4bba-9360-eea00b4bd42b"
      },
      "source": [
        "def count_Prime(start_num, end_num):\n",
        "  count = 0\n",
        "  for i in range(start_num, end_num):\n",
        "    if nPIrme(i) == True:\n",
        "      "
      ],
      "execution_count": 19,
      "outputs": [
        {
          "output_type": "error",
          "ename": "SyntaxError",
          "evalue": "ignored",
          "traceback": [
            "\u001b[0;36m  File \u001b[0;32m\"<ipython-input-19-566943623071>\"\u001b[0;36m, line \u001b[0;32m3\u001b[0m\n\u001b[0;31m    for i in range(start_num, end_num):\u001b[0m\n\u001b[0m                                       ^\u001b[0m\n\u001b[0;31mSyntaxError\u001b[0m\u001b[0;31m:\u001b[0m unexpected EOF while parsing\n"
          ]
        }
      ]
    },
    {
      "cell_type": "code",
      "metadata": {
        "id": "K-qqvf6oUxfE",
        "colab_type": "code",
        "colab": {}
      },
      "source": [
        ""
      ],
      "execution_count": null,
      "outputs": []
    }
  ]
}